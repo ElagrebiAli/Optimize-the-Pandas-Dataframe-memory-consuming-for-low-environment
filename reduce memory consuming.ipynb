{
 "cells": [
  {
   "cell_type": "code",
   "execution_count": 1,
   "metadata": {},
   "outputs": [],
   "source": [
    "import pandas as pd\n",
    "import numpy as np"
   ]
  },
  {
   "cell_type": "code",
   "execution_count": 2,
   "metadata": {},
   "outputs": [],
   "source": [
    "df = pd.read_csv('./train_Numerical_data.csv')"
   ]
  },
  {
   "cell_type": "code",
   "execution_count": 3,
   "metadata": {},
   "outputs": [
    {
     "data": {
      "text/html": [
       "<div>\n",
       "<style scoped>\n",
       "    .dataframe tbody tr th:only-of-type {\n",
       "        vertical-align: middle;\n",
       "    }\n",
       "\n",
       "    .dataframe tbody tr th {\n",
       "        vertical-align: top;\n",
       "    }\n",
       "\n",
       "    .dataframe thead th {\n",
       "        text-align: right;\n",
       "    }\n",
       "</style>\n",
       "<table border=\"1\" class=\"dataframe\">\n",
       "  <thead>\n",
       "    <tr style=\"text-align: right;\">\n",
       "      <th></th>\n",
       "      <th>Store_id</th>\n",
       "      <th>Item_id</th>\n",
       "      <th>Date</th>\n",
       "      <th>Quantity</th>\n",
       "      <th>Price</th>\n",
       "      <th>Net_Price</th>\n",
       "      <th>Net_Amount</th>\n",
       "      <th>Discount_Amount</th>\n",
       "      <th>Cost_Amount</th>\n",
       "      <th>Customer_Discount</th>\n",
       "      <th>Total_Discount</th>\n",
       "      <th>Periodic_Discount</th>\n",
       "      <th>Refund Qty_</th>\n",
       "      <th>date</th>\n",
       "    </tr>\n",
       "  </thead>\n",
       "  <tbody>\n",
       "    <tr>\n",
       "      <th>0</th>\n",
       "      <td>S_6</td>\n",
       "      <td>Item_16</td>\n",
       "      <td>1532304000000000000</td>\n",
       "      <td>0.125</td>\n",
       "      <td>2.0</td>\n",
       "      <td>1.869</td>\n",
       "      <td>-1.869</td>\n",
       "      <td>0.0</td>\n",
       "      <td>-0.182</td>\n",
       "      <td>0.0</td>\n",
       "      <td>0.0</td>\n",
       "      <td>0.0</td>\n",
       "      <td>1.0</td>\n",
       "      <td>2018-07-23</td>\n",
       "    </tr>\n",
       "    <tr>\n",
       "      <th>1</th>\n",
       "      <td>S_6</td>\n",
       "      <td>Item_16</td>\n",
       "      <td>1532390400000000000</td>\n",
       "      <td>0.125</td>\n",
       "      <td>2.0</td>\n",
       "      <td>1.869</td>\n",
       "      <td>-1.870</td>\n",
       "      <td>0.0</td>\n",
       "      <td>-0.182</td>\n",
       "      <td>0.0</td>\n",
       "      <td>0.0</td>\n",
       "      <td>0.0</td>\n",
       "      <td>1.0</td>\n",
       "      <td>2018-07-24</td>\n",
       "    </tr>\n",
       "    <tr>\n",
       "      <th>2</th>\n",
       "      <td>S_6</td>\n",
       "      <td>Item_16</td>\n",
       "      <td>1532563200000000000</td>\n",
       "      <td>0.125</td>\n",
       "      <td>2.0</td>\n",
       "      <td>1.869</td>\n",
       "      <td>-1.869</td>\n",
       "      <td>0.0</td>\n",
       "      <td>-0.182</td>\n",
       "      <td>0.0</td>\n",
       "      <td>0.0</td>\n",
       "      <td>0.0</td>\n",
       "      <td>1.0</td>\n",
       "      <td>2018-07-26</td>\n",
       "    </tr>\n",
       "    <tr>\n",
       "      <th>3</th>\n",
       "      <td>S_6</td>\n",
       "      <td>Item_16</td>\n",
       "      <td>1532563200000000000</td>\n",
       "      <td>0.125</td>\n",
       "      <td>2.0</td>\n",
       "      <td>1.869</td>\n",
       "      <td>-1.869</td>\n",
       "      <td>0.0</td>\n",
       "      <td>-0.182</td>\n",
       "      <td>0.0</td>\n",
       "      <td>0.0</td>\n",
       "      <td>0.0</td>\n",
       "      <td>1.0</td>\n",
       "      <td>2018-07-26</td>\n",
       "    </tr>\n",
       "    <tr>\n",
       "      <th>4</th>\n",
       "      <td>S_6</td>\n",
       "      <td>Item_16</td>\n",
       "      <td>1532649600000000000</td>\n",
       "      <td>0.125</td>\n",
       "      <td>2.0</td>\n",
       "      <td>1.869</td>\n",
       "      <td>-1.869</td>\n",
       "      <td>0.0</td>\n",
       "      <td>-0.182</td>\n",
       "      <td>0.0</td>\n",
       "      <td>0.0</td>\n",
       "      <td>0.0</td>\n",
       "      <td>1.0</td>\n",
       "      <td>2018-07-27</td>\n",
       "    </tr>\n",
       "  </tbody>\n",
       "</table>\n",
       "</div>"
      ],
      "text/plain": [
       "  Store_id  Item_id                 Date  Quantity  Price  Net_Price  \\\n",
       "0      S_6  Item_16  1532304000000000000     0.125    2.0      1.869   \n",
       "1      S_6  Item_16  1532390400000000000     0.125    2.0      1.869   \n",
       "2      S_6  Item_16  1532563200000000000     0.125    2.0      1.869   \n",
       "3      S_6  Item_16  1532563200000000000     0.125    2.0      1.869   \n",
       "4      S_6  Item_16  1532649600000000000     0.125    2.0      1.869   \n",
       "\n",
       "   Net_Amount  Discount_Amount  Cost_Amount  Customer_Discount  \\\n",
       "0      -1.869              0.0       -0.182                0.0   \n",
       "1      -1.870              0.0       -0.182                0.0   \n",
       "2      -1.869              0.0       -0.182                0.0   \n",
       "3      -1.869              0.0       -0.182                0.0   \n",
       "4      -1.869              0.0       -0.182                0.0   \n",
       "\n",
       "   Total_Discount  Periodic_Discount  Refund Qty_        date  \n",
       "0             0.0                0.0          1.0  2018-07-23  \n",
       "1             0.0                0.0          1.0  2018-07-24  \n",
       "2             0.0                0.0          1.0  2018-07-26  \n",
       "3             0.0                0.0          1.0  2018-07-26  \n",
       "4             0.0                0.0          1.0  2018-07-27  "
      ]
     },
     "execution_count": 3,
     "metadata": {},
     "output_type": "execute_result"
    }
   ],
   "source": [
    "df.head()"
   ]
  },
  {
   "cell_type": "code",
   "execution_count": 4,
   "metadata": {},
   "outputs": [
    {
     "name": "stdout",
     "output_type": "stream",
     "text": [
      "<class 'pandas.core.frame.DataFrame'>\n",
      "RangeIndex: 5451442 entries, 0 to 5451441\n",
      "Data columns (total 14 columns):\n",
      "Store_id             object\n",
      "Item_id              object\n",
      "Date                 int64\n",
      "Quantity             float64\n",
      "Price                float64\n",
      "Net_Price            float64\n",
      "Net_Amount           float64\n",
      "Discount_Amount      float64\n",
      "Cost_Amount          float64\n",
      "Customer_Discount    float64\n",
      "Total_Discount       float64\n",
      "Periodic_Discount    float64\n",
      "Refund Qty_          float64\n",
      "date                 object\n",
      "dtypes: float64(10), int64(1), object(3)\n",
      "memory usage: 582.3+ MB\n"
     ]
    }
   ],
   "source": [
    "df.info()"
   ]
  },
  {
   "cell_type": "code",
   "execution_count": 5,
   "metadata": {},
   "outputs": [
    {
     "data": {
      "text/plain": [
       "Store_id             0\n",
       "Item_id              0\n",
       "Date                 0\n",
       "Quantity             0\n",
       "Price                0\n",
       "Net_Price            0\n",
       "Net_Amount           0\n",
       "Discount_Amount      0\n",
       "Cost_Amount          0\n",
       "Customer_Discount    0\n",
       "Total_Discount       0\n",
       "Periodic_Discount    0\n",
       "Refund Qty_          0\n",
       "date                 0\n",
       "dtype: int64"
      ]
     },
     "execution_count": 5,
     "metadata": {},
     "output_type": "execute_result"
    }
   ],
   "source": [
    "df.isna().sum()"
   ]
  },
  {
   "cell_type": "code",
   "execution_count": 6,
   "metadata": {},
   "outputs": [
    {
     "data": {
      "text/plain": [
       "Store_id             0\n",
       "Item_id              0\n",
       "Date                 0\n",
       "Quantity             0\n",
       "Price                0\n",
       "Net_Price            0\n",
       "Net_Amount           0\n",
       "Discount_Amount      0\n",
       "Cost_Amount          0\n",
       "Customer_Discount    0\n",
       "Total_Discount       0\n",
       "Periodic_Discount    0\n",
       "Refund Qty_          0\n",
       "date                 0\n",
       "dtype: int64"
      ]
     },
     "execution_count": 6,
     "metadata": {},
     "output_type": "execute_result"
    }
   ],
   "source": [
    "df.isnull().sum()"
   ]
  },
  {
   "cell_type": "code",
   "execution_count": 7,
   "metadata": {},
   "outputs": [],
   "source": [
    "def memory_usage_per_type(data_frame):\n",
    "    types = ['float','int','object']\n",
    "    for type in types:\n",
    "        selected_col=data_frame.select_dtypes(include=[type])\n",
    "        memory_usage_of_selected_type_b = selected_col.memory_usage(deep=True).sum()\n",
    "        memory_usage_of_selected_type_mb=memory_usage_of_selected_type_b/1024**2\n",
    "        print(\"memory usage for {} columns: {:03.2f} MB\".format(type,memory_usage_of_selected_type_mb))\n"
   ]
  },
  {
   "cell_type": "code",
   "execution_count": 8,
   "metadata": {},
   "outputs": [
    {
     "name": "stdout",
     "output_type": "stream",
     "text": [
      "memory usage for float columns: 415.91 MB\n",
      "memory usage for int columns: 0.00 MB\n",
      "memory usage for object columns: 1007.46 MB\n"
     ]
    }
   ],
   "source": [
    "memory_usage_per_type(df)"
   ]
  },
  {
   "cell_type": "code",
   "execution_count": 9,
   "metadata": {},
   "outputs": [],
   "source": [
    "def memory_usage(data_frame):\n",
    "    return data_frame.memory_usage(deep=True).sum()/1024**2"
   ]
  },
  {
   "cell_type": "code",
   "execution_count": 10,
   "metadata": {},
   "outputs": [
    {
     "name": "stdout",
     "output_type": "stream",
     "text": [
      "Memory use before optimization 1464.96 MB\n"
     ]
    }
   ],
   "source": [
    "print('Memory use before optimization {:.2f} MB'.format(memory_usage(df)))"
   ]
  },
  {
   "cell_type": "markdown",
   "metadata": {},
   "source": [
    "### limit of subtypes"
   ]
  },
  {
   "cell_type": "code",
   "execution_count": 11,
   "metadata": {},
   "outputs": [],
   "source": [
    "def subtypes_limit(subtype):\n",
    "    if \"int\" in subtype:\n",
    "        return np.iinfo(subtype).min,np.iinfo(subtype).max\n",
    "    if \"float\" in subtype:\n",
    "        return np.finfo(subtype).min,np.finfo(subtype).max"
   ]
  },
  {
   "cell_type": "code",
   "execution_count": 12,
   "metadata": {},
   "outputs": [
    {
     "name": "stdout",
     "output_type": "stream",
     "text": [
      "(-128, 127)\n",
      "(-65500.0, 65500.0)\n",
      "(-2147483648, 2147483647)\n",
      "(-9223372036854775808, 9223372036854775807)\n",
      "(0, 255)\n",
      "(0, 65535)\n",
      "(0, 4294967295)\n",
      "(0, 18446744073709551615)\n"
     ]
    }
   ],
   "source": [
    "for type in ['int8','float16','int32','int64','uint8','uint16','uint32','uint64']:\n",
    "    print(subtypes_limit(type))"
   ]
  },
  {
   "cell_type": "markdown",
   "metadata": {},
   "source": [
    "### Downcast float and int column "
   ]
  },
  {
   "cell_type": "code",
   "execution_count": 13,
   "metadata": {},
   "outputs": [],
   "source": [
    "#Solution 1\n",
    "def downcast_and_compare_memory_consuming_by_type_first(type_):\n",
    "    selected_type = df.select_dtypes(include=[type_])\n",
    "    converted_type = selected_type.apply(pd.to_numeric,downcast=type_)\n",
    "    memory_before = memory_usage(selected_type)\n",
    "    memory_after = memory_usage(converted_type)\n",
    "    print('before the downcast:{:.2f} MB'.format(memory_before))\n",
    "    print('after the downcast:{:.2f} MB'.format(memory_after))\n",
    "    print('')\n",
    "    compare_type_changes = pd.concat([selected_type.dtypes,converted_type.dtypes],axis=1)\n",
    "    compare_type_changes.columns = ['before','after']\n",
    "    return compare_type_changes.apply(pd.Series.value_counts)\n",
    "    "
   ]
  },
  {
   "cell_type": "code",
   "execution_count": 14,
   "metadata": {},
   "outputs": [
    {
     "name": "stdout",
     "output_type": "stream",
     "text": [
      "before the downcast:415.91 MB\n",
      "after the downcast:207.96 MB\n",
      "\n"
     ]
    },
    {
     "data": {
      "text/html": [
       "<div>\n",
       "<style scoped>\n",
       "    .dataframe tbody tr th:only-of-type {\n",
       "        vertical-align: middle;\n",
       "    }\n",
       "\n",
       "    .dataframe tbody tr th {\n",
       "        vertical-align: top;\n",
       "    }\n",
       "\n",
       "    .dataframe thead th {\n",
       "        text-align: right;\n",
       "    }\n",
       "</style>\n",
       "<table border=\"1\" class=\"dataframe\">\n",
       "  <thead>\n",
       "    <tr style=\"text-align: right;\">\n",
       "      <th></th>\n",
       "      <th>before</th>\n",
       "      <th>after</th>\n",
       "    </tr>\n",
       "  </thead>\n",
       "  <tbody>\n",
       "    <tr>\n",
       "      <th>float32</th>\n",
       "      <td>NaN</td>\n",
       "      <td>10.0</td>\n",
       "    </tr>\n",
       "    <tr>\n",
       "      <th>float64</th>\n",
       "      <td>10.0</td>\n",
       "      <td>NaN</td>\n",
       "    </tr>\n",
       "  </tbody>\n",
       "</table>\n",
       "</div>"
      ],
      "text/plain": [
       "         before  after\n",
       "float32     NaN   10.0\n",
       "float64    10.0    NaN"
      ]
     },
     "execution_count": 14,
     "metadata": {},
     "output_type": "execute_result"
    }
   ],
   "source": [
    "downcast_and_compare_memory_consuming_by_type_first('float')"
   ]
  },
  {
   "cell_type": "code",
   "execution_count": 15,
   "metadata": {},
   "outputs": [],
   "source": [
    "#Solution 2\n",
    "def downcast_and_compare_memory_consuming_by_type_second(type_):\n",
    "    selected_col = df.select_dtypes(include=[type_])\n",
    "    memory_before = memory_usage(selected_col)\n",
    "    optimize_col = selected_col.copy()\n",
    "    for col in optimize_col.columns:\n",
    "        mx_col = optimize_col[col].max()\n",
    "        mn_col = optimize_col[col].min()\n",
    "        if type_=='int':\n",
    "            if mn_col>0:\n",
    "                    if mx_col < 255:\n",
    "                        optimize_col[col] = optimize_col[col].astype(np.uint8)\n",
    "                    elif mx_col < 65535:\n",
    "                        optimize_col[col] = optimize_col[col].astype(np.uint16)\n",
    "                    elif mx_col < 4294967295:\n",
    "                        optimize_col[col] = optimize_col[col].astype(np.uint32)\n",
    "                    else:\n",
    "                        optimize_col[col] = optimize_col[col].astype(np.uint64)\n",
    "            else:\n",
    "                    if mn_col > np.iinfo(np.int8).min and mx < np.iinfo(np.int8).max:\n",
    "                        optimize_col[col] = optimize_col[col].astype(np.int8)\n",
    "                    elif mn > np.iinfo(np.int16).min and mx < np.iinfo(np.int16).max:\n",
    "                        optimize_col[col] = optimize_col[col].astype(np.int16)\n",
    "                    elif mn > np.iinfo(np.int32).min and mx < np.iinfo(np.int32).max:\n",
    "                        optimize_col[col] = optimize_col[col].astype(np.int32)\n",
    "                    elif mn > np.iinfo(np.int64).min and mx < np.iinfo(np.int64).max:\n",
    "                        optimize_col[col] = optimize_col[col].astype(np.int64)\n",
    "        else:\n",
    "            if mn_col > np.finfo(np.float16).min and mx_col < np.finfo(np.float16).max:\n",
    "                    optimize_col[col] = optimize_col[col].astype(np.float16)\n",
    "            elif mn_col > np.finfo(np.float32).min and mx_col < np.finfo(np.float32).max:\n",
    "                    optimize_col[col] = optimize_col[col].astype(np.float32)\n",
    "            else:\n",
    "                    optimize_col[col] = optimize_col[col].astype(np.float64)\n",
    "            \n",
    "    memory_after = memory_usage(optimize_col)\n",
    "    print('before the downcast:{:.2f} MB'.format(memory_before))\n",
    "    print('after the downcast:{:.2f} MB'.format(memory_after))\n",
    "    compare_type_changes = pd.concat([selected_col.dtypes,optimize_col.dtypes],axis=1)\n",
    "    compare_type_changes.columns = ['before','after']\n",
    "    return compare_type_changes.apply(pd.Series.value_counts)"
   ]
  },
  {
   "cell_type": "code",
   "execution_count": 16,
   "metadata": {},
   "outputs": [
    {
     "name": "stdout",
     "output_type": "stream",
     "text": [
      "before the downcast:415.91 MB\n",
      "after the downcast:103.98 MB\n"
     ]
    },
    {
     "data": {
      "text/html": [
       "<div>\n",
       "<style scoped>\n",
       "    .dataframe tbody tr th:only-of-type {\n",
       "        vertical-align: middle;\n",
       "    }\n",
       "\n",
       "    .dataframe tbody tr th {\n",
       "        vertical-align: top;\n",
       "    }\n",
       "\n",
       "    .dataframe thead th {\n",
       "        text-align: right;\n",
       "    }\n",
       "</style>\n",
       "<table border=\"1\" class=\"dataframe\">\n",
       "  <thead>\n",
       "    <tr style=\"text-align: right;\">\n",
       "      <th></th>\n",
       "      <th>before</th>\n",
       "      <th>after</th>\n",
       "    </tr>\n",
       "  </thead>\n",
       "  <tbody>\n",
       "    <tr>\n",
       "      <th>float16</th>\n",
       "      <td>NaN</td>\n",
       "      <td>10.0</td>\n",
       "    </tr>\n",
       "    <tr>\n",
       "      <th>float64</th>\n",
       "      <td>10.0</td>\n",
       "      <td>NaN</td>\n",
       "    </tr>\n",
       "  </tbody>\n",
       "</table>\n",
       "</div>"
      ],
      "text/plain": [
       "         before  after\n",
       "float16     NaN   10.0\n",
       "float64    10.0    NaN"
      ]
     },
     "execution_count": 16,
     "metadata": {},
     "output_type": "execute_result"
    }
   ],
   "source": [
    "downcast_and_compare_memory_consuming_by_type_second('float')"
   ]
  },
  {
   "cell_type": "markdown",
   "metadata": {},
   "source": [
    "### Downcast the date object "
   ]
  },
  {
   "cell_type": "code",
   "execution_count": 17,
   "metadata": {},
   "outputs": [
    {
     "data": {
      "text/plain": [
       "True"
      ]
     },
     "execution_count": 17,
     "metadata": {},
     "output_type": "execute_result"
    }
   ],
   "source": [
    "'object' in str(df['date'].dtypes)"
   ]
  },
  {
   "cell_type": "code",
   "execution_count": 18,
   "metadata": {},
   "outputs": [
    {
     "name": "stdout",
     "output_type": "stream",
     "text": [
      "before : 1464.96 MB\n",
      "after : 1158.23 MB\n"
     ]
    }
   ],
   "source": [
    "df_op = df.copy()\n",
    "df_op['date'] = pd.to_datetime(df_op['date'],format='%Y-%m-%d')\n",
    "memory_before = memory_usage(df)\n",
    "memory_after = memory_usage(df_op)\n",
    "print('before : {:.2f} MB'.format(memory_before))\n",
    "print('after : {:.2f} MB'.format(memory_after))"
   ]
  },
  {
   "cell_type": "markdown",
   "metadata": {},
   "source": [
    "### Downcast the object data"
   ]
  },
  {
   "cell_type": "code",
   "execution_count": 19,
   "metadata": {},
   "outputs": [],
   "source": [
    "def downcast_object():\n",
    "    selected_col = df[['Store_id','Item_id']]\n",
    "    print('before the downcast:{:.2f} MB'.format(memory_usage(selected_col)))\n",
    "    optimize_col = selected_col.copy()\n",
    "    for col in optimize_col.columns:\n",
    "        numbr_of_unique = len(optimize_col[col].unique())\n",
    "        numbr_total = len(optimize_col[col])\n",
    "        if numbr_of_unique/numbr_total<0.5:\n",
    "            \n",
    "            optimize_col[col] = optimize_col[col].astype('category')\n",
    "    print('before the downcast:{:.2f} MB'.format(memory_usage(optimize_col)))\n",
    "    "
   ]
  },
  {
   "cell_type": "code",
   "execution_count": 20,
   "metadata": {},
   "outputs": [
    {
     "name": "stdout",
     "output_type": "stream",
     "text": [
      "before the downcast:659.13 MB\n",
      "before the downcast:15.66 MB\n"
     ]
    }
   ],
   "source": [
    "downcast_object()"
   ]
  },
  {
   "cell_type": "markdown",
   "metadata": {},
   "source": [
    "### Downcast all the date now "
   ]
  },
  {
   "cell_type": "code",
   "execution_count": 21,
   "metadata": {},
   "outputs": [],
   "source": [
    "def reduce_memory(data_frame):\n",
    "    memory_before = memory_usage(data_frame)\n",
    "    print('before: {:.2f} MB'.format(memory_before))\n",
    "    subtype_int = ['uint8','uint16','uint32','uint64','int8','int16','int32','int64']\n",
    "    subtype_float = ['float16','float32','float64']\n",
    "    for col in data_frame.columns:\n",
    "        col_type = str(data_frame[col].dtypes)\n",
    "        mx_col = data_frame[col].max()\n",
    "        mn_col = data_frame[col].min()\n",
    "        if 'int'in col_type:\n",
    "            for ele in subtype_int:\n",
    "                if mn_col>np.iinfo(ele).min and mx_col<np.iinfo(ele).max:\n",
    "                    data_frame[col] = data_frame[col].astype(ele)\n",
    "                    break\n",
    "        \n",
    "        elif 'float' in col_type:\n",
    "            for ele in subtype_float:\n",
    "                if mn_col>np.finfo(ele).min and mx_col<np.finfo(ele).max:\n",
    "                    data_frame[col] = data_frame[col].astype(ele)\n",
    "                    break  \n",
    "        elif 'object' in col_type:\n",
    "                if col=='date':\n",
    "                    data_frame['date'] = pd.to_datetime(data_frame['date'],format='%Y-%m-%d')\n",
    "                else:\n",
    "                    numbr_of_unique = len(df[col].unique())\n",
    "                    numbr_total = len(df[col])\n",
    "                    if numbr_of_unique/numbr_total<0.5:\n",
    "                        \n",
    "                        df[col] = df[col].astype('category')\n",
    "    memory_after = memory_usage(data_frame)\n",
    "    print('after:{:.2f} MB'.format(memory_after))\n",
    "    print('Decreased by: {:.2f} % '.format(100*(memory_before-memory_after)/memory_before))"
   ]
  },
  {
   "cell_type": "code",
   "execution_count": 22,
   "metadata": {},
   "outputs": [
    {
     "name": "stdout",
     "output_type": "stream",
     "text": [
      "before: 1464.96 MB\n",
      "after:202.82 MB\n",
      "Decreased by: 86.16 % \n"
     ]
    }
   ],
   "source": [
    "reduce_memory(df)"
   ]
  },
  {
   "cell_type": "code",
   "execution_count": null,
   "metadata": {},
   "outputs": [],
   "source": []
  }
 ],
 "metadata": {
  "kernelspec": {
   "display_name": "Python 3",
   "language": "python",
   "name": "python3"
  },
  "language_info": {
   "codemirror_mode": {
    "name": "ipython",
    "version": 3
   },
   "file_extension": ".py",
   "mimetype": "text/x-python",
   "name": "python",
   "nbconvert_exporter": "python",
   "pygments_lexer": "ipython3",
   "version": "3.5.0"
  }
 },
 "nbformat": 4,
 "nbformat_minor": 2
}
